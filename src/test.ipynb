{
 "cells": [
  {
   "cell_type": "code",
   "execution_count": 1,
   "id": "915a2541",
   "metadata": {},
   "outputs": [],
   "source": [
    "import pandas as pd\n",
    "import numpy as np\n",
    "from sklearn.model_selection import train_test_split\n",
    "from sklearn.preprocessing import StandardScaler\n",
    "from sklearn.linear_model import LogisticRegression\n",
    "from sklearn.metrics import classification_report"
   ]
  },
  {
   "cell_type": "code",
   "execution_count": 4,
   "id": "8ddc7bfe",
   "metadata": {},
   "outputs": [
    {
     "name": "stdout",
     "output_type": "stream",
     "text": [
      "<class 'pandas.core.frame.DataFrame'>\n",
      "RangeIndex: 284807 entries, 0 to 284806\n",
      "Data columns (total 31 columns):\n",
      " #   Column  Non-Null Count   Dtype  \n",
      "---  ------  --------------   -----  \n",
      " 0   Time    284807 non-null  float64\n",
      " 1   V1      284807 non-null  float64\n",
      " 2   V2      284807 non-null  float64\n",
      " 3   V3      284807 non-null  float64\n",
      " 4   V4      284807 non-null  float64\n",
      " 5   V5      284807 non-null  float64\n",
      " 6   V6      284807 non-null  float64\n",
      " 7   V7      284807 non-null  float64\n",
      " 8   V8      284807 non-null  float64\n",
      " 9   V9      284807 non-null  float64\n",
      " 10  V10     284807 non-null  float64\n",
      " 11  V11     284807 non-null  float64\n",
      " 12  V12     284807 non-null  float64\n",
      " 13  V13     284807 non-null  float64\n",
      " 14  V14     284807 non-null  float64\n",
      " 15  V15     284807 non-null  float64\n",
      " 16  V16     284807 non-null  float64\n",
      " 17  V17     284807 non-null  float64\n",
      " 18  V18     284807 non-null  float64\n",
      " 19  V19     284807 non-null  float64\n",
      " 20  V20     284807 non-null  float64\n",
      " 21  V21     284807 non-null  float64\n",
      " 22  V22     284807 non-null  float64\n",
      " 23  V23     284807 non-null  float64\n",
      " 24  V24     284807 non-null  float64\n",
      " 25  V25     284807 non-null  float64\n",
      " 26  V26     284807 non-null  float64\n",
      " 27  V27     284807 non-null  float64\n",
      " 28  V28     284807 non-null  float64\n",
      " 29  Amount  284807 non-null  float64\n",
      " 30  Class   284807 non-null  int64  \n",
      "dtypes: float64(30), int64(1)\n",
      "memory usage: 67.4 MB\n"
     ]
    }
   ],
   "source": [
    "data = pd.read_csv('../data/creditcard.csv')\n",
    "data.head(5)\n",
    "data.info()"
   ]
  },
  {
   "cell_type": "code",
   "execution_count": null,
   "id": "b96a2dc0",
   "metadata": {},
   "outputs": [],
   "source": []
  },
  {
   "cell_type": "markdown",
   "id": "dfea486f",
   "metadata": {},
   "source": [
    "# 信用卡欺诈检测流水线模型设计\n",
    "本流程涵盖数据划分、标准化、类别不均衡处理、GPU训练等步骤。"
   ]
  },
  {
   "cell_type": "code",
   "execution_count": 17,
   "id": "825c02fb",
   "metadata": {},
   "outputs": [
    {
     "name": "stdout",
     "output_type": "stream",
     "text": [
      "训练集样本数: 182276\n",
      "验证集样本数: 45569\n",
      "测试集样本数: 56962\n"
     ]
    }
   ],
   "source": [
    "# 1. 数据准备与划分（分为训练、验证、测试集，保证类别分布一致）\n",
    "from sklearn.model_selection import train_test_split\n",
    "\n",
    "X = data[[f'V{i}' for i in range(1, 29)]]\n",
    "y = data['Class']\n",
    "\n",
    "# 先划分训练+验证和测试集\n",
    "X_temp, X_test, y_temp, y_test = train_test_split(X, y, test_size=0.2, stratify=y, random_state=42)\n",
    "# 再划分训练和验证集\n",
    "X_train, X_val, y_train, y_val = train_test_split(X_temp, y_temp, test_size=0.2, stratify=y_temp, random_state=42)\n",
    "\n",
    "print('训练集样本数:', len(X_train))\n",
    "print('验证集样本数:', len(X_val))\n",
    "print('测试集样本数:', len(X_test))"
   ]
  },
  {
   "cell_type": "code",
   "execution_count": 18,
   "id": "a26f34b3",
   "metadata": {},
   "outputs": [],
   "source": [
    "# 2. 标准化特征\n",
    "from sklearn.preprocessing import StandardScaler\n",
    "\n",
    "scaler = StandardScaler()\n",
    "X_train_std = scaler.fit_transform(X_train)\n",
    "X_val_std = scaler.transform(X_val)\n",
    "X_test_std = scaler.transform(X_test)"
   ]
  },
  {
   "cell_type": "code",
   "execution_count": 19,
   "id": "d9d87a34",
   "metadata": {},
   "outputs": [
    {
     "name": "stdout",
     "output_type": "stream",
     "text": [
      "类别权重: {0: np.float64(0.5008655700946906), 1: np.float64(289.32698412698414)}\n"
     ]
    }
   ],
   "source": [
    "# 3. 处理类别不均衡问题（使用权重或采样）\n",
    "from sklearn.utils.class_weight import compute_class_weight\n",
    "\n",
    "class_weights = compute_class_weight('balanced', classes=np.unique(y_train), y=y_train)\n",
    "class_weights_dict = {0: class_weights[0], 1: class_weights[1]}\n",
    "print('类别权重:', class_weights_dict)"
   ]
  },
  {
   "cell_type": "code",
   "execution_count": 20,
   "id": "cf2a9d56",
   "metadata": {},
   "outputs": [],
   "source": [
    "# 4. 构建PyTorch数据集和数据加载器\n",
    "import torch\n",
    "from torch.utils.data import TensorDataset, DataLoader\n",
    "\n",
    "device = torch.device('cuda' if torch.cuda.is_available() else 'cpu')\n",
    "\n",
    "X_train_tensor = torch.tensor(X_train_std, dtype=torch.float32)\n",
    "y_train_tensor = torch.tensor(y_train.values, dtype=torch.float32)\n",
    "X_val_tensor = torch.tensor(X_val_std, dtype=torch.float32)\n",
    "y_val_tensor = torch.tensor(y_val.values, dtype=torch.float32)\n",
    "X_test_tensor = torch.tensor(X_test_std, dtype=torch.float32)\n",
    "y_test_tensor = torch.tensor(y_test.values, dtype=torch.float32)\n",
    "\n",
    "train_dataset = TensorDataset(X_train_tensor, y_train_tensor)\n",
    "val_dataset = TensorDataset(X_val_tensor, y_val_tensor)\n",
    "test_dataset = TensorDataset(X_test_tensor, y_test_tensor)\n",
    "\n",
    "train_loader = DataLoader(train_dataset, batch_size=512, shuffle=True)\n",
    "val_loader = DataLoader(val_dataset, batch_size=512)\n",
    "test_loader = DataLoader(test_dataset, batch_size=512)"
   ]
  },
  {
   "cell_type": "code",
   "execution_count": 21,
   "id": "9f5ca46b",
   "metadata": {},
   "outputs": [],
   "source": [
    "# 5. 构建简单的神经网络模型并在GPU上训练\n",
    "import torch.nn as nn\n",
    "\n",
    "class FraudNet(nn.Module):\n",
    "    def __init__(self, input_dim):\n",
    "        super().__init__()\n",
    "        self.net = nn.Sequential(\n",
    "            nn.Linear(input_dim, 64),\n",
    "            nn.ReLU(),\n",
    "            nn.Linear(64, 32),\n",
    "            nn.ReLU(),\n",
    "            nn.Linear(32, 1),\n",
    "            nn.Sigmoid()\n",
    "        )\n",
    "    def forward(self, x):\n",
    "        return self.net(x)\n",
    "\n",
    "model = FraudNet(X_train_tensor.shape[1]).to(device)\n",
    "\n",
    "# 损失函数使用类别权重\n",
    "pos_weight = torch.tensor([class_weights_dict[1]/class_weights_dict[0]], device=device)\n",
    "criterion = nn.BCEWithLogitsLoss(pos_weight=pos_weight)\n",
    "optimizer = torch.optim.Adam(model.parameters(), lr=1e-3)"
   ]
  },
  {
   "cell_type": "code",
   "execution_count": 22,
   "id": "d9269c18",
   "metadata": {},
   "outputs": [
    {
     "name": "stdout",
     "output_type": "stream",
     "text": [
      "Epoch 1/5, Loss: 0.6959\n",
      "Epoch 2/5, Loss: 0.6938\n",
      "Epoch 2/5, Loss: 0.6938\n",
      "Epoch 3/5, Loss: 0.6937\n",
      "Epoch 3/5, Loss: 0.6937\n",
      "Epoch 4/5, Loss: 0.6932\n",
      "Epoch 4/5, Loss: 0.6932\n",
      "Epoch 5/5, Loss: 0.6935\n",
      "Epoch 5/5, Loss: 0.6935\n"
     ]
    }
   ],
   "source": [
    "# 6. 训练模型（简要流程）\n",
    "epochs = 5\n",
    "for epoch in range(epochs):\n",
    "    model.train()\n",
    "    for X_batch, y_batch in train_loader:\n",
    "        X_batch, y_batch = X_batch.to(device), y_batch.to(device)\n",
    "        optimizer.zero_grad()\n",
    "        outputs = model(X_batch).squeeze()\n",
    "        loss = criterion(outputs, y_batch)\n",
    "        loss.backward()\n",
    "        optimizer.step()\n",
    "    print(f'Epoch {epoch+1}/{epochs}, Loss: {loss.item():.4f}')"
   ]
  },
  {
   "cell_type": "code",
   "execution_count": 23,
   "id": "5a1e5e1b",
   "metadata": {},
   "outputs": [
    {
     "name": "stdout",
     "output_type": "stream",
     "text": [
      "混淆矩阵:\n",
      "[[56435   429]\n",
      " [   10    88]]\n",
      "\n",
      "分类报告:\n",
      "              precision    recall  f1-score   support\n",
      "\n",
      "         0.0     0.9998    0.9925    0.9961     56864\n",
      "         1.0     0.1702    0.8980    0.2862        98\n",
      "\n",
      "    accuracy                         0.9923     56962\n",
      "   macro avg     0.5850    0.9452    0.6412     56962\n",
      "weighted avg     0.9984    0.9923    0.9949     56962\n",
      "\n",
      "ROC AUC分数: 0.9452074337050521\n"
     ]
    }
   ],
   "source": [
    "# 7. 在测试集上评估模型性能\n",
    "model.eval()\n",
    "y_pred = []\n",
    "y_true = []\n",
    "with torch.no_grad():\n",
    "    for X_batch, y_batch in test_loader:\n",
    "        X_batch = X_batch.to(device)\n",
    "        outputs = model(X_batch).squeeze().cpu().numpy()\n",
    "        preds = (outputs > 0.5).astype(int)\n",
    "        y_pred.extend(preds)\n",
    "        y_true.extend(y_batch.numpy())\n",
    "\n",
    "from sklearn.metrics import classification_report, confusion_matrix, roc_auc_score\n",
    "print('混淆矩阵:')\n",
    "print(confusion_matrix(y_true, y_pred))\n",
    "print('\\n分类报告:')\n",
    "print(classification_report(y_true, y_pred, digits=4))\n",
    "print('ROC AUC分数:', roc_auc_score(y_true, y_pred))"
   ]
  },
  {
   "cell_type": "markdown",
   "id": "4948dcdd",
   "metadata": {},
   "source": [
    "## 总结\n",
    "本流程实现了数据标准化、分层划分、类别不均衡处理，并在GPU上训练了神经网络模型。可根据实际需求进一步优化模型结构和采样策略。"
   ]
  },
  {
   "cell_type": "markdown",
   "id": "90a8d772",
   "metadata": {},
   "source": [
    "# 使用XGBoost进行特征筛选与分类"
   ]
  },
  {
   "cell_type": "code",
   "execution_count": 24,
   "id": "b51afd48",
   "metadata": {},
   "outputs": [],
   "source": [
    "# 1. 随机抽取部分数据（如2万条）用于特征筛选\n",
    "sample_size = 20000\n",
    "sample_data = data.sample(n=sample_size, random_state=42)\n",
    "X_sample = sample_data[[f'V{i}' for i in range(1, 29)]]\n",
    "y_sample = sample_data['Class']"
   ]
  },
  {
   "cell_type": "code",
   "execution_count": 27,
   "id": "b98ce480",
   "metadata": {},
   "outputs": [
    {
     "name": "stderr",
     "output_type": "stream",
     "text": [
      "/usr1/home/s124mdg53_07/anaconda3/envs/FYP/lib/python3.10/site-packages/xgboost/training.py:183: UserWarning: [15:16:15] WARNING: /workspace/src/learner.cc:738: \n",
      "Parameters: { \"use_label_encoder\" } are not used.\n",
      "\n",
      "  bst.update(dtrain, iteration=i, fobj=obj)\n",
      "/usr1/home/s124mdg53_07/anaconda3/envs/FYP/lib/python3.10/site-packages/IPython/core/pylabtools.py:170: UserWarning: Glyph 29305 (\\N{CJK UNIFIED IDEOGRAPH-7279}) missing from font(s) DejaVu Sans.\n",
      "  fig.canvas.print_figure(bytes_io, **kw)\n",
      "/usr1/home/s124mdg53_07/anaconda3/envs/FYP/lib/python3.10/site-packages/IPython/core/pylabtools.py:170: UserWarning: Glyph 24449 (\\N{CJK UNIFIED IDEOGRAPH-5F81}) missing from font(s) DejaVu Sans.\n",
      "  fig.canvas.print_figure(bytes_io, **kw)\n",
      "/usr1/home/s124mdg53_07/anaconda3/envs/FYP/lib/python3.10/site-packages/IPython/core/pylabtools.py:170: UserWarning: Glyph 37325 (\\N{CJK UNIFIED IDEOGRAPH-91CD}) missing from font(s) DejaVu Sans.\n",
      "  fig.canvas.print_figure(bytes_io, **kw)\n",
      "/usr1/home/s124mdg53_07/anaconda3/envs/FYP/lib/python3.10/site-packages/IPython/core/pylabtools.py:170: UserWarning: Glyph 35201 (\\N{CJK UNIFIED IDEOGRAPH-8981}) missing from font(s) DejaVu Sans.\n",
      "  fig.canvas.print_figure(bytes_io, **kw)\n",
      "/usr1/home/s124mdg53_07/anaconda3/envs/FYP/lib/python3.10/site-packages/IPython/core/pylabtools.py:170: UserWarning: Glyph 24615 (\\N{CJK UNIFIED IDEOGRAPH-6027}) missing from font(s) DejaVu Sans.\n",
      "  fig.canvas.print_figure(bytes_io, **kw)\n",
      "/usr1/home/s124mdg53_07/anaconda3/envs/FYP/lib/python3.10/site-packages/IPython/core/pylabtools.py:170: UserWarning: Glyph 65288 (\\N{FULLWIDTH LEFT PARENTHESIS}) missing from font(s) DejaVu Sans.\n",
      "  fig.canvas.print_figure(bytes_io, **kw)\n",
      "/usr1/home/s124mdg53_07/anaconda3/envs/FYP/lib/python3.10/site-packages/IPython/core/pylabtools.py:170: UserWarning: Glyph 21069 (\\N{CJK UNIFIED IDEOGRAPH-524D}) missing from font(s) DejaVu Sans.\n",
      "  fig.canvas.print_figure(bytes_io, **kw)\n",
      "/usr1/home/s124mdg53_07/anaconda3/envs/FYP/lib/python3.10/site-packages/IPython/core/pylabtools.py:170: UserWarning: Glyph 65289 (\\N{FULLWIDTH RIGHT PARENTHESIS}) missing from font(s) DejaVu Sans.\n",
      "  fig.canvas.print_figure(bytes_io, **kw)\n"
     ]
    },
    {
     "data": {
      "image/png": "[encoded data removed]",
      "text/plain": [
       "<Figure size 640x480 with 1 Axes>"
      ]
     },
     "metadata": {},
     "output_type": "display_data"
    },
    {
     "name": "stdout",
     "output_type": "stream",
     "text": [
      "最有价值的特征: ['V14', 'V21', 'V3', 'V13', 'V8', 'V1', 'V17', 'V18']\n"
     ]
    }
   ],
   "source": [
    "# 2. 训练XGBoost模型并获取特征重要性\n",
    "import xgboost as xgb\n",
    "\n",
    "xgb_clf = xgb.XGBClassifier(use_label_encoder=False, eval_metric='logloss', scale_pos_weight=100)\n",
    "xgb_clf.fit(X_sample, y_sample)\n",
    "\n",
    "import matplotlib.pyplot as plt\n",
    "xgb.plot_importance(xgb_clf, max_num_features=10, importance_type='gain')\n",
    "plt.title('XGBoost特征重要性（前10）')\n",
    "plt.show()\n",
    "\n",
    "# 获取最重要的前N个特征\n",
    "feature_importances = xgb_clf.feature_importances_\n",
    "feature_names = [f'V{i}' for i in range(1, 29)]\n",
    "importance_df = pd.DataFrame({'feature': feature_names, 'importance': feature_importances})\n",
    "importance_df = importance_df.sort_values(by='importance', ascending=False)\n",
    "top_features = importance_df['feature'].head(8).tolist()\n",
    "print('最有价值的特征:', top_features)"
   ]
  },
  {
   "cell_type": "code",
   "execution_count": 29,
   "id": "a51609e6",
   "metadata": {},
   "outputs": [
    {
     "name": "stderr",
     "output_type": "stream",
     "text": [
      "/usr1/home/s124mdg53_07/anaconda3/envs/FYP/lib/python3.10/site-packages/xgboost/training.py:183: UserWarning: [15:16:59] WARNING: /workspace/src/learner.cc:738: \n",
      "Parameters: { \"use_label_encoder\" } are not used.\n",
      "\n",
      "  bst.update(dtrain, iteration=i, fobj=obj)\n"
     ]
    },
    {
     "name": "stdout",
     "output_type": "stream",
     "text": [
      "XGBoost分类报告:\n",
      "              precision    recall  f1-score   support\n",
      "\n",
      "           0     0.9997    0.9997    0.9997     56864\n",
      "           1     0.8333    0.8163    0.8247        98\n",
      "\n",
      "    accuracy                         0.9994     56962\n",
      "   macro avg     0.9165    0.9080    0.9122     56962\n",
      "weighted avg     0.9994    0.9994    0.9994     56962\n",
      "\n",
      "XGBoost混淆矩阵:\n",
      "[[56848    16]\n",
      " [   18    80]]\n",
      "XGBoost ROC AUC分数: 0.9080225787557566\n"
     ]
    }
   ],
   "source": [
    "# 3. 用筛选后的特征重新训练XGBoost分类器并测试\n",
    "X_train_top = X_train[top_features]\n",
    "X_val_top = X_val[top_features]\n",
    "X_test_top = X_test[top_features]\n",
    "\n",
    "xgb_final = xgb.XGBClassifier(use_label_encoder=False, eval_metric='logloss', scale_pos_weight=class_weights_dict[1]/class_weights_dict[0])\n",
    "xgb_final.fit(X_train_top, y_train, eval_set=[(X_val_top, y_val)], verbose=False)\n",
    "\n",
    "y_pred_xgb = xgb_final.predict(X_test_top)\n",
    "\n",
    "print('XGBoost分类报告:')\n",
    "print(classification_report(y_test, y_pred_xgb, digits=4))\n",
    "print('XGBoost混淆矩阵:')\n",
    "print(confusion_matrix(y_test, y_pred_xgb))\n",
    "print('XGBoost ROC AUC分数:', roc_auc_score(y_test, y_pred_xgb))"
   ]
  },
  {
   "cell_type": "code",
   "execution_count": null,
   "id": "cbe45099",
   "metadata": {},
   "outputs": [],
   "source": []
  },
  {
   "cell_type": "code",
   "execution_count": null,
   "id": "caaeab6e",
   "metadata": {},
   "outputs": [],
   "source": []
  },
  {
   "cell_type": "markdown",
   "id": "2a08b723",
   "metadata": {},
   "source": [
    "## 重点关注假阴率（漏检率）重新评价模型\n",
    "假阴率 = FN / (FN + TP)，即实际为1但预测为0的比例。"
   ]
  },
  {
   "cell_type": "code",
   "execution_count": 30,
   "id": "ac25e13b",
   "metadata": {},
   "outputs": [
    {
     "name": "stdout",
     "output_type": "stream",
     "text": [
      "混淆矩阵: [[56848    16]\n",
      " [   18    80]]\n",
      "假阴率（漏检率）: 0.1837\n",
      "模型评价重点：假阴率越低越好，假阳率可适当忽略\n"
     ]
    }
   ],
   "source": [
    "# 以XGBoost模型为例，重新评价假阴率\n",
    "from sklearn.metrics import confusion_matrix\n",
    "\n",
    "cm = confusion_matrix(y_test, y_pred_xgb)\n",
    "tn, fp, fn, tp = cm.ravel()\n",
    "print('混淆矩阵:', cm)\n",
    "if (fn + tp) > 0:\n",
    "    false_negative_rate = fn / (fn + tp)\n",
    "    print(f'假阴率（漏检率）: {false_negative_rate:.4f}')\n",
    "else:\n",
    "    print('无正样本，无法计算假阴率')\n",
    "\n",
    "# 只关注假阴率的评价\n",
    "print('模型评价重点：假阴率越低越好，假阳率可适当忽略')"
   ]
  },
  {
   "cell_type": "code",
   "execution_count": null,
   "id": "67e0b529",
   "metadata": {},
   "outputs": [],
   "source": []
  },
  {
   "cell_type": "markdown",
   "id": "02b71681",
   "metadata": {},
   "source": [
    "# 各维度与Class的相关性分析"
   ]
  },
  {
   "cell_type": "code",
   "execution_count": 32,
   "id": "16e5e209",
   "metadata": {},
   "outputs": [
    {
     "name": "stdout",
     "output_type": "stream",
     "text": [
      "V11    0.154876\n",
      "V4     0.133447\n",
      "V2     0.091289\n",
      "V21    0.040413\n",
      "V19    0.034783\n",
      "V20    0.020090\n",
      "V8     0.019875\n",
      "V27    0.017580\n",
      "V28    0.009536\n",
      "V26    0.004455\n",
      "V25    0.003308\n",
      "V22    0.000805\n",
      "V23   -0.002685\n",
      "V15   -0.004223\n",
      "V13   -0.004570\n",
      "V24   -0.007221\n",
      "V6    -0.043643\n",
      "V5    -0.094974\n",
      "V9    -0.097733\n",
      "V1    -0.101347\n",
      "V18   -0.111485\n",
      "V7    -0.187257\n",
      "V3    -0.192961\n",
      "V16   -0.196539\n",
      "V10   -0.216883\n",
      "V12   -0.260593\n",
      "V14   -0.302544\n",
      "V17   -0.326481\n",
      "Name: Class, dtype: float64\n"
     ]
    }
   ],
   "source": [
    "# 计算各维度与Class的相关性（皮尔逊相关系数）\n",
    "corrs = data[[f'V{i}' for i in range(1, 29)] + ['Class']].corr()['Class'].drop('Class')\n",
    "print(corrs.sort_values(ascending=False))"
   ]
  },
  {
   "cell_type": "code",
   "execution_count": 33,
   "id": "207361a2",
   "metadata": {},
   "outputs": [
    {
     "name": "stderr",
     "output_type": "stream",
     "text": [
      "/usr1/home/s124mdg53_07/anaconda3/envs/FYP/lib/python3.10/site-packages/IPython/core/pylabtools.py:170: UserWarning: Glyph 21508 (\\N{CJK UNIFIED IDEOGRAPH-5404}) missing from font(s) DejaVu Sans.\n",
      "  fig.canvas.print_figure(bytes_io, **kw)\n",
      "/usr1/home/s124mdg53_07/anaconda3/envs/FYP/lib/python3.10/site-packages/IPython/core/pylabtools.py:170: UserWarning: Glyph 32500 (\\N{CJK UNIFIED IDEOGRAPH-7EF4}) missing from font(s) DejaVu Sans.\n",
      "  fig.canvas.print_figure(bytes_io, **kw)\n",
      "/usr1/home/s124mdg53_07/anaconda3/envs/FYP/lib/python3.10/site-packages/IPython/core/pylabtools.py:170: UserWarning: Glyph 24230 (\\N{CJK UNIFIED IDEOGRAPH-5EA6}) missing from font(s) DejaVu Sans.\n",
      "  fig.canvas.print_figure(bytes_io, **kw)\n",
      "/usr1/home/s124mdg53_07/anaconda3/envs/FYP/lib/python3.10/site-packages/IPython/core/pylabtools.py:170: UserWarning: Glyph 19982 (\\N{CJK UNIFIED IDEOGRAPH-4E0E}) missing from font(s) DejaVu Sans.\n",
      "  fig.canvas.print_figure(bytes_io, **kw)\n",
      "/usr1/home/s124mdg53_07/anaconda3/envs/FYP/lib/python3.10/site-packages/IPython/core/pylabtools.py:170: UserWarning: Glyph 30340 (\\N{CJK UNIFIED IDEOGRAPH-7684}) missing from font(s) DejaVu Sans.\n",
      "  fig.canvas.print_figure(bytes_io, **kw)\n",
      "/usr1/home/s124mdg53_07/anaconda3/envs/FYP/lib/python3.10/site-packages/IPython/core/pylabtools.py:170: UserWarning: Glyph 30456 (\\N{CJK UNIFIED IDEOGRAPH-76F8}) missing from font(s) DejaVu Sans.\n",
      "  fig.canvas.print_figure(bytes_io, **kw)\n",
      "/usr1/home/s124mdg53_07/anaconda3/envs/FYP/lib/python3.10/site-packages/IPython/core/pylabtools.py:170: UserWarning: Glyph 20851 (\\N{CJK UNIFIED IDEOGRAPH-5173}) missing from font(s) DejaVu Sans.\n",
      "  fig.canvas.print_figure(bytes_io, **kw)\n",
      "/usr1/home/s124mdg53_07/anaconda3/envs/FYP/lib/python3.10/site-packages/IPython/core/pylabtools.py:170: UserWarning: Glyph 24615 (\\N{CJK UNIFIED IDEOGRAPH-6027}) missing from font(s) DejaVu Sans.\n",
      "  fig.canvas.print_figure(bytes_io, **kw)\n",
      "/usr1/home/s124mdg53_07/anaconda3/envs/FYP/lib/python3.10/site-packages/IPython/core/pylabtools.py:170: UserWarning: Glyph 65288 (\\N{FULLWIDTH LEFT PARENTHESIS}) missing from font(s) DejaVu Sans.\n",
      "  fig.canvas.print_figure(bytes_io, **kw)\n",
      "/usr1/home/s124mdg53_07/anaconda3/envs/FYP/lib/python3.10/site-packages/IPython/core/pylabtools.py:170: UserWarning: Glyph 30382 (\\N{CJK UNIFIED IDEOGRAPH-76AE}) missing from font(s) DejaVu Sans.\n",
      "  fig.canvas.print_figure(bytes_io, **kw)\n",
      "/usr1/home/s124mdg53_07/anaconda3/envs/FYP/lib/python3.10/site-packages/IPython/core/pylabtools.py:170: UserWarning: Glyph 23572 (\\N{CJK UNIFIED IDEOGRAPH-5C14}) missing from font(s) DejaVu Sans.\n",
      "  fig.canvas.print_figure(bytes_io, **kw)\n",
      "/usr1/home/s124mdg53_07/anaconda3/envs/FYP/lib/python3.10/site-packages/IPython/core/pylabtools.py:170: UserWarning: Glyph 36874 (\\N{CJK UNIFIED IDEOGRAPH-900A}) missing from font(s) DejaVu Sans.\n",
      "  fig.canvas.print_figure(bytes_io, **kw)\n",
      "/usr1/home/s124mdg53_07/anaconda3/envs/FYP/lib/python3.10/site-packages/IPython/core/pylabtools.py:170: UserWarning: Glyph 31995 (\\N{CJK UNIFIED IDEOGRAPH-7CFB}) missing from font(s) DejaVu Sans.\n",
      "  fig.canvas.print_figure(bytes_io, **kw)\n",
      "/usr1/home/s124mdg53_07/anaconda3/envs/FYP/lib/python3.10/site-packages/IPython/core/pylabtools.py:170: UserWarning: Glyph 25968 (\\N{CJK UNIFIED IDEOGRAPH-6570}) missing from font(s) DejaVu Sans.\n",
      "  fig.canvas.print_figure(bytes_io, **kw)\n",
      "/usr1/home/s124mdg53_07/anaconda3/envs/FYP/lib/python3.10/site-packages/IPython/core/pylabtools.py:170: UserWarning: Glyph 65289 (\\N{FULLWIDTH RIGHT PARENTHESIS}) missing from font(s) DejaVu Sans.\n",
      "  fig.canvas.print_figure(bytes_io, **kw)\n"
     ]
    },
    {
     "data": {
      "image/png": "[encoded data removed]",
      "text/plain": [
       "<Figure size 1200x600 with 1 Axes>"
      ]
     },
     "metadata": {},
     "output_type": "display_data"
    }
   ],
   "source": [
    "# 可视化相关性（条形图）\n",
    "import matplotlib.pyplot as plt\n",
    "plt.figure(figsize=(12,6))\n",
    "corrs.sort_values().plot(kind='barh')\n",
    "plt.title('各维度与Class的相关性（皮尔逊相关系数）')\n",
    "plt.xlabel('相关系数')\n",
    "plt.show()"
   ]
  },
  {
   "cell_type": "code",
   "execution_count": 36,
   "id": "8318d7db",
   "metadata": {},
   "outputs": [
    {
     "data": {
      "text/plain": [
       "0              0.0\n",
       "1              0.0\n",
       "2              1.0\n",
       "3              1.0\n",
       "4              2.0\n",
       "            ...   \n",
       "284802    172786.0\n",
       "284803    172787.0\n",
       "284804    172788.0\n",
       "284805    172788.0\n",
       "284806    172792.0\n",
       "Name: Time, Length: 284807, dtype: float64"
      ]
     },
     "execution_count": 36,
     "metadata": {},
     "output_type": "execute_result"
    }
   ],
   "source": [
    "data['Time']\n"
   ]
  },
  {
   "cell_type": "code",
   "execution_count": null,
   "id": "54a471e5",
   "metadata": {},
   "outputs": [],
   "source": []
  },
  {
   "cell_type": "markdown",
   "id": "d260bb67",
   "metadata": {},
   "source": [
    "# 生成均衡数据集（重采样）"
   ]
  },
  {
   "cell_type": "code",
   "execution_count": 37,
   "id": "dd70772d",
   "metadata": {},
   "outputs": [
    {
     "name": "stdout",
     "output_type": "stream",
     "text": [
      "均衡数据集类别分布:\n",
      "Class\n",
      "1    284315\n",
      "0    284315\n",
      "Name: count, dtype: int64\n"
     ]
    }
   ],
   "source": [
    "# 下采样多数类或上采样少数类，生成均衡数据集\n",
    "from sklearn.utils import resample\n",
    "\n",
    "# 分离多数类和少数类\n",
    "df_majority = data[data['Class'] == 0]\n",
    "df_minority = data[data['Class'] == 1]\n",
    "\n",
    "# 上采样少数类\n",
    "df_minority_upsampled = resample(\n",
    "    df_minority,\n",
    "    replace=True,\n",
    "    n_samples=len(df_majority),\n",
    "    random_state=42\n",
    ")\n",
    "\n",
    "# 合并为新的均衡数据集\n",
    "data_balanced = pd.concat([df_majority, df_minority_upsampled])\n",
    "data_balanced = data_balanced.sample(frac=1, random_state=42).reset_index(drop=True)\n",
    "print('均衡数据集类别分布:')\n",
    "print(data_balanced['Class'].value_counts())"
   ]
  },
  {
   "cell_type": "code",
   "execution_count": null,
   "id": "d0c81791",
   "metadata": {},
   "outputs": [],
   "source": []
  },
  {
   "cell_type": "code",
   "execution_count": null,
   "id": "1c6ce237",
   "metadata": {},
   "outputs": [],
   "source": []
  },
  {
   "cell_type": "markdown",
   "id": "4c818f29",
   "metadata": {},
   "source": [
    "# 用均衡数据集训练和测试XGBoost模型"
   ]
  },
  {
   "cell_type": "code",
   "execution_count": 38,
   "id": "049afd41",
   "metadata": {},
   "outputs": [],
   "source": [
    "# 划分均衡数据集的训练、验证、测试集\n",
    "Xb = data_balanced[[f'V{i}' for i in range(1, 29)]]\n",
    "yb = data_balanced['Class']\n",
    "Xb_temp, Xb_test, yb_temp, yb_test = train_test_split(Xb, yb, test_size=0.2, stratify=yb, random_state=42)\n",
    "Xb_train, Xb_val, yb_train, yb_val = train_test_split(Xb_temp, yb_temp, test_size=0.2, stratify=yb_temp, random_state=42)"
   ]
  },
  {
   "cell_type": "code",
   "execution_count": 39,
   "id": "549baf01",
   "metadata": {},
   "outputs": [],
   "source": [
    "# 标准化均衡数据集特征\n",
    "scaler_b = StandardScaler()\n",
    "Xb_train_std = scaler_b.fit_transform(Xb_train)\n",
    "Xb_val_std = scaler_b.transform(Xb_val)\n",
    "Xb_test_std = scaler_b.transform(Xb_test)"
   ]
  },
  {
   "cell_type": "code",
   "execution_count": 40,
   "id": "5f64015f",
   "metadata": {},
   "outputs": [
    {
     "name": "stderr",
     "output_type": "stream",
     "text": [
      "/usr1/home/s124mdg53_07/anaconda3/envs/FYP/lib/python3.10/site-packages/xgboost/training.py:183: UserWarning: [15:29:25] WARNING: /workspace/src/learner.cc:738: \n",
      "Parameters: { \"use_label_encoder\" } are not used.\n",
      "\n",
      "  bst.update(dtrain, iteration=i, fobj=obj)\n"
     ]
    },
    {
     "name": "stdout",
     "output_type": "stream",
     "text": [
      "均衡数据集XGBoost分类报告:\n",
      "              precision    recall  f1-score   support\n",
      "\n",
      "           0     1.0000    0.9998    0.9999     56863\n",
      "           1     0.9998    1.0000    0.9999     56863\n",
      "\n",
      "    accuracy                         0.9999    113726\n",
      "   macro avg     0.9999    0.9999    0.9999    113726\n",
      "weighted avg     0.9999    0.9999    0.9999    113726\n",
      "\n",
      "均衡数据集XGBoost混淆矩阵:\n",
      "[[56849    14]\n",
      " [    0 56863]]\n",
      "均衡数据集XGBoost ROC AUC分数: 0.9998768971035646\n"
     ]
    }
   ],
   "source": [
    "# 用全部特征训练XGBoost模型并测试\n",
    "import xgboost as xgb\n",
    "xgb_balanced = xgb.XGBClassifier(use_label_encoder=False, eval_metric='logloss')\n",
    "xgb_balanced.fit(Xb_train_std, yb_train, eval_set=[(Xb_val_std, yb_val)], verbose=False)\n",
    "yb_pred = xgb_balanced.predict(Xb_test_std)\n",
    "\n",
    "print('均衡数据集XGBoost分类报告:')\n",
    "print(classification_report(yb_test, yb_pred, digits=4))\n",
    "print('均衡数据集XGBoost混淆矩阵:')\n",
    "print(confusion_matrix(yb_test, yb_pred))\n",
    "print('均衡数据集XGBoost ROC AUC分数:', roc_auc_score(yb_test, yb_pred))"
   ]
  },
  {
   "cell_type": "code",
   "execution_count": null,
   "id": "dcfa6a22",
   "metadata": {},
   "outputs": [],
   "source": []
  },
  {
   "cell_type": "markdown",
   "id": "9a9457d6",
   "metadata": {},
   "source": [
    "# 计算均衡数据集的假阴率（漏检率）"
   ]
  },
  {
   "cell_type": "code",
   "execution_count": 41,
   "id": "402682e6",
   "metadata": {},
   "outputs": [
    {
     "name": "stdout",
     "output_type": "stream",
     "text": [
      "均衡数据集混淆矩阵: [[56849    14]\n",
      " [    0 56863]]\n",
      "均衡数据集假阴率（漏检率）: 0.0000\n"
     ]
    }
   ],
   "source": [
    "cm_b = confusion_matrix(yb_test, yb_pred)\n",
    "tn_b, fp_b, fn_b, tp_b = cm_b.ravel()\n",
    "print('均衡数据集混淆矩阵:', cm_b)\n",
    "if (fn_b + tp_b) > 0:\n",
    "    false_negative_rate_b = fn_b / (fn_b + tp_b)\n",
    "    print(f'均衡数据集假阴率（漏检率）: {false_negative_rate_b:.4f}')\n",
    "else:\n",
    "    print('无正样本，无法计算假阴率')"
   ]
  },
  {
   "cell_type": "code",
   "execution_count": null,
   "id": "89e1b672",
   "metadata": {},
   "outputs": [],
   "source": []
  }
 ],
 "metadata": {
  "kernelspec": {
   "display_name": "FYP",
   "language": "python",
   "name": "python3"
  },
  "language_info": {
   "codemirror_mode": {
    "name": "ipython",
    "version": 3
   },
   "file_extension": ".py",
   "mimetype": "text/x-python",
   "name": "python",
   "nbconvert_exporter": "python",
   "pygments_lexer": "ipython3",
   "version": "3.10.16"
  }
 },
 "nbformat": 4,
 "nbformat_minor": 5
}
